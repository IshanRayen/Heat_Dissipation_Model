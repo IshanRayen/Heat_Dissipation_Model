{
  "cells": [
    {
      "cell_type": "markdown",
      "metadata": {
        "id": "view-in-github",
        "colab_type": "text"
      },
      "source": [
        "<a href=\"https://colab.research.google.com/github/IshanRayen/Heat_Dissipation_Model/blob/main/Heat_Dissipation.ipynb\" target=\"_parent\"><img src=\"https://colab.research.google.com/assets/colab-badge.svg\" alt=\"Open In Colab\"/></a>"
      ]
    },
    {
      "cell_type": "markdown",
      "metadata": {
        "id": "0RPONYfP4hog"
      },
      "source": [
        "## **Heat Dissipation Model** ##"
      ]
    },
    {
      "cell_type": "markdown",
      "metadata": {
        "id": "GGKo4Ysn5IOc"
      },
      "source": [
        "This project seeks to understand and animate the dissipation of heat through an object. It uses the Finite Difference Method and the Heat Equation.\n",
        "\n",
        "The heat equation is seen below:\n",
        "$$\\frac{\\partial u}{\\partial t} - \\alpha(\\frac{\\partial^2 u}{\\partial x^2}+\\frac{\\partial^2 u}{\\partial y^2})=0$$\n",
        "\n",
        "where $\\alpha$ is the diffusivity constant and the function is broken into x and y coordinates\n",
        "\n",
        "The FDM is seen below:\n",
        "$$f'(a)=\\frac{f(a+h)-f(a)}{h}$$\n",
        "\n",
        "![download.png](data:image/png;base64,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)\n",
        "\n",
        "As seen in the image it allows us to approximate the function by continually taking the difference. This is done with this problem.\n",
        "\n",
        "To solve this we can show the equation u as\n",
        "$$u(x,y,t)=u^{k}_{i,j}$$\n",
        "where k is the time step and i and j are x and y respectively.\n",
        "We can plug this back into the heat equation and simplify it down to the following equation:\n",
        "\n",
        "$$u^{k+1}_{i,j}=\\alpha \\frac{\\vartriangle{t}}{\\vartriangle{x^2}}(u^{k}_{i-1,j}+u^{k}_{i,j+1}+u^{k}_{i,j-1}-4u^{k}_{i,j})+u^{k}_{i,j}$$\n",
        "\n",
        "This equation is iterated for every time iteration and every x and y coordinate as seen in the function in the code. This spits out a new array for every iteration with a small change based on the coeefcient seen before the parenthesis in the above equation.\n",
        "\n",
        "The code is seen below for two systems, one with the center of the grid at $100^{\\circ C}$ and the second system has the left boundary and right boundary at $100^{\\circ C}$."
      ]
    },
    {
      "cell_type": "code",
      "execution_count": null,
      "metadata": {
        "id": "mEUX7cvXwXrY"
      },
      "outputs": [],
      "source": [
        "import numpy as np\n",
        "import matplotlib.pyplot as plt\n",
        "import matplotlib.animation as animation\n",
        "from matplotlib.animation import FuncAnimation\n",
        "from matplotlib import animation, rc\n",
        "from IPython.display import HTML"
      ]
    },
    {
      "cell_type": "code",
      "execution_count": null,
      "metadata": {
        "id": "uGq1Pv80pRsf"
      },
      "outputs": [],
      "source": [
        "'===========================Initial Conditions================================='\n",
        "#M creats the grid with is always an MxM grid\n",
        "#it is the number of iterations. This code creates a new array for every iteration\n",
        "#so the value of \"it\" shows the number of arrays showed in the frame\n",
        "\n",
        "M = 50            #Grid size, each grid will be square so this requires one input\n",
        "it = 750          #Number of iterations. Increasing it will linearly increase computation time\n",
        "alpha = 3*10**-3  #Diffusivity constant can be set to anything\n",
        "delta_x = 1       #Delta x which moves pixel by pixel. Will normally be 1\n",
        "\n",
        "#decreasing grid size increases the time the animation runs for\n",
        "\n",
        "'=============================Calculations====================================='\n",
        "#this calculates the center positions used in the boundaries later ons\n",
        "#delta t and gamma are also calculated from the alpha and delta x above\n",
        "\n",
        "c1 = int((M/2)-(M/6))   #creates a left most boundary for the center\n",
        "c2 = int((M/2)+(M/6))   #creates a right most boundary for the center\n",
        "delta_t = (delta_x ** 2)/(4 * alpha)        #calcs a delta t based on del x and alpha\n",
        "gamma = (alpha * delta_t) / (delta_x ** 2)  #takes the coeff seen in the above equation into one var gamma\n",
        "\n",
        "'==========================Finite Difference Method============================'\n",
        "#this function takes in the starting array and applies the FDM for each iteration\n",
        "#and for each pixel in x and y\n",
        "\n",
        "def finite(V):\n",
        "    for k in range(0, it-1, 1):\n",
        "        for i in range(1, M-1, delta_x):\n",
        "            for j in range(1, M-1, delta_x):\n",
        "                V[k + 1, i, j] = gamma * (V[k][i+1][j] + V[k][i-1][j]\n",
        "                                          + V[k][i][j+1] + V[k][i][j-1]\n",
        "                                          - 4*V[k][i][j]) + V[k][i][j]\n",
        "    return V\n",
        "\n",
        "'=============================Heat Map Function================================'\n",
        "#a function to plot the heat map and the titles / labels included along w a color bar\n",
        "\n",
        "def plotheatmap(u_k, k):\n",
        "    plt.clf()\n",
        "    plt.title(\"Heat Diffusion\")\n",
        "    plt.xlabel(\"x (pixel units)\")\n",
        "    plt.ylabel(\"y (pixel units)\")\n",
        "    plt.pcolormesh(u_k, cmap=plt.cm.jet, vmin = 0, vmax = 100)\n",
        "    plt.colorbar(label=\"Degrees Celcius\")\n",
        "    return plt"
      ]
    },
    {
      "cell_type": "code",
      "execution_count": null,
      "metadata": {
        "id": "hxg3PXUYwjI9"
      },
      "outputs": [],
      "source": [
        "'=========================Center at 100 Deg Celc==============================='\n",
        "V = np.zeros([it,M,M]) #zero array with time iterations and with size MxM\n",
        "\n",
        "'===============================Boundaries====================================='\n",
        "\n",
        "left = 0\n",
        "right = 0\n",
        "top = 0\n",
        "bottom = 0\n",
        "center = 100\n",
        "\n",
        "#the array is appended with the values above except on all borders and the center\n",
        "V[:,:,:1] = left\n",
        "V[:,:,-1:] = right\n",
        "V[:,:1,:] = bottom\n",
        "V[:,-1:,:] = top\n",
        "V[:,c1:c2,c1:c2]= center\n",
        "\n",
        "'=============================Calc and Animation==============================='\n",
        "#the function is called and the animation is run for this array\n",
        "\n",
        "Vin = finite(V)\n",
        "\n",
        "def animate(k):\n",
        "    plotheatmap(Vin[k], k)\n",
        "\n",
        "anim = animation.FuncAnimation(plt.figure(), animate, interval=1, frames=it, repeat=False)\n",
        "plt.rcParams['animation.embed_limit'] = 2**128\n",
        "rc('animation', html='jshtml')\n",
        "anim"
      ]
    },
    {
      "cell_type": "code",
      "execution_count": null,
      "metadata": {
        "id": "NOfFplgK2AFM"
      },
      "outputs": [],
      "source": [
        "'============================Top at 100 Deg Celc==============================='\n",
        "Z = np.zeros([it,M,M])\n",
        "\n",
        "'===============================Boundaries====================================='\n",
        "\n",
        "left = 100\n",
        "right = 100\n",
        "top = 0\n",
        "bottom = 0\n",
        "center = 0\n",
        "\n",
        "Z[:,:,:1] = left\n",
        "Z[:,:,-1:] = right\n",
        "Z[:,:1,:] = bottom\n",
        "Z[:,-1:,:] = top\n",
        "Z[:,c1:c2,c1:c2]= center\n",
        "\n",
        "'=============================Calc and Animation==============================='\n",
        "\n",
        "Zin = finite(Z)\n",
        "\n",
        "def animate(k):\n",
        "    plotheatmap(Zin[k], k)\n",
        "\n",
        "anim = animation.FuncAnimation(plt.figure(), animate, interval=1, frames=it, repeat=False)\n",
        "plt.rcParams['animation.embed_limit'] = 2**128\n",
        "rc('animation', html='jshtml')\n",
        "anim"
      ]
    },
    {
      "cell_type": "code",
      "execution_count": null,
      "metadata": {
        "id": "nhxbH6CaQPyW"
      },
      "outputs": [],
      "source": [
        "'============================Top at 100 Deg Celc==============================='\n",
        "Z = np.zeros([it,M,M])\n",
        "\n",
        "'===============================Boundaries====================================='\n",
        "\n",
        "left = 100\n",
        "right = 0\n",
        "top = 0\n",
        "bottom = -100\n",
        "center = 0\n",
        "\n",
        "Z[:,:,:1] = left\n",
        "Z[:,:,-1:] = right\n",
        "Z[:,:1,:] = bottom\n",
        "Z[:,-1:,:] = top\n",
        "Z[:,c1:c2,c1:c2]= center\n",
        "\n",
        "'=============================Calc and Animation==============================='\n",
        "\n",
        "Zin = finite(Z)\n",
        "\n",
        "def plotheatmaptwo(u_k, k):\n",
        "    plt.clf()\n",
        "    plt.title(\"Heat Diffusion\")\n",
        "    plt.xlabel(\"x (pixel units)\")\n",
        "    plt.ylabel(\"y (pixel units)\")\n",
        "    plt.pcolormesh(u_k, cmap=plt.cm.jet, vmin = -100, vmax = 100)\n",
        "    plt.colorbar(label=\"Degrees Celcius\")\n",
        "    return plt\n",
        "\n",
        "def animate(k):\n",
        "    plotheatmaptwo(Zin[k], k)\n",
        "\n",
        "anim = animation.FuncAnimation(plt.figure(), animate, interval=1, frames=it, repeat=False)\n",
        "plt.rcParams['animation.embed_limit'] = 2**128\n",
        "rc('animation', html='jshtml')\n",
        "anim"
      ]
    },
    {
      "cell_type": "code",
      "execution_count": null,
      "metadata": {
        "id": "v8Z4zu3A1GC4"
      },
      "outputs": [],
      "source": []
    }
  ],
  "metadata": {
    "colab": {
      "provenance": [],
      "include_colab_link": true
    },
    "kernelspec": {
      "display_name": "Python 3",
      "name": "python3"
    },
    "language_info": {
      "name": "python"
    }
  },
  "nbformat": 4,
  "nbformat_minor": 0
}